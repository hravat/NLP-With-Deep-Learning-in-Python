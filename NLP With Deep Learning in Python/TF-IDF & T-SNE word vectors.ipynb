{
 "cells": [
  {
   "cell_type": "code",
   "execution_count": 1,
   "metadata": {},
   "outputs": [],
   "source": [
    "#import necessary packages \n",
    "from nltk.corpus import stopwords\n",
    "from sklearn.feature_extraction.text import TfidfTransformer\n",
    "from sklearn.feature_extraction.text import CountVectorizer\n",
    "from sklearn.manifold import TSNE\n",
    "import pandas as pd\n",
    "from matplotlib import pyplot as plt\n",
    "import numpy as np\n",
    "from future.utils import iteritems\n",
    "from util import find_analogies\n",
    "from sklearn.decomposition import TruncatedSVD, PCA, KernelPCA\n",
    "import os\n",
    "import sys\n",
    "sys.path.append(os.path.abspath('..'))\n",
    "from nltk_data_cleanup import nltk_cleanup"
   ]
  },
  {
   "cell_type": "code",
   "execution_count": 2,
   "metadata": {},
   "outputs": [],
   "source": [
    "# Read in  the first document\n",
    "with open('./lotr_fotr.txt') as f:\n",
    "    lotr_fotr = f.read()\n",
    " \n",
    "words_fotr=' '\n",
    "for word in lotr_fotr.split():\n",
    "    word,flag = nltk_cleanup(word)\n",
    "    if flag == 'Y':\n",
    "        words_fotr=words_fotr+word+\" \" "
   ]
  },
  {
   "cell_type": "code",
   "execution_count": 3,
   "metadata": {},
   "outputs": [],
   "source": [
    "# Read in  the second document\n",
    "with open('./lotr_ttt.txt') as f:\n",
    "    lotr_ttt = f.read()\n",
    " \n",
    "words_ttt=' '\n",
    "for word in lotr_ttt.split():\n",
    "    word,flag = nltk_cleanup(word)\n",
    "    if flag == 'Y':\n",
    "        words_ttt=words_ttt+word+\" \" "
   ]
  },
  {
   "cell_type": "code",
   "execution_count": 4,
   "metadata": {},
   "outputs": [],
   "source": [
    "# Read in the third doscument\n",
    "with open('./lotr_rotk.txt') as f:\n",
    "    lotr_rotk = f.read()\n",
    " \n",
    "words_rotk=' '\n",
    "for word in lotr_rotk.split():\n",
    "    word,flag = nltk_cleanup(word)\n",
    "    if flag == 'Y':\n",
    "        words_rotk=words_rotk+word+\" \" "
   ]
  },
  {
   "cell_type": "code",
   "execution_count": 5,
   "metadata": {},
   "outputs": [],
   "source": [
    "# Append all the three documents together\n",
    "document_list=[words_fotr,words_ttt,words_rotk]\n"
   ]
  },
  {
   "cell_type": "code",
   "execution_count": 6,
   "metadata": {},
   "outputs": [
    {
     "data": {
      "text/plain": [
       "(3, 13743)"
      ]
     },
     "execution_count": 6,
     "metadata": {},
     "output_type": "execute_result"
    }
   ],
   "source": [
    "# getting the counts for TF-IDF\n",
    "cv = CountVectorizer()\n",
    "word_count_vector = cv.fit_transform(document_list)\n",
    "word_count_vector.shape"
   ]
  },
  {
   "cell_type": "code",
   "execution_count": 7,
   "metadata": {},
   "outputs": [
    {
     "data": {
      "text/plain": [
       "(3, 13743)"
      ]
     },
     "execution_count": 7,
     "metadata": {},
     "output_type": "execute_result"
    }
   ],
   "source": [
    "# running the TF_IDF transformer\n",
    "tfidf_transformer=TfidfTransformer()\n",
    "sne_input=tfidf_transformer.fit_transform(word_count_vector)\n",
    "sne_input=sne_input.toarray()\n",
    "np.shape(sne_input)"
   ]
  },
  {
   "cell_type": "code",
   "execution_count": 8,
   "metadata": {},
   "outputs": [
    {
     "data": {
      "text/html": [
       "<div>\n",
       "<style scoped>\n",
       "    .dataframe tbody tr th:only-of-type {\n",
       "        vertical-align: middle;\n",
       "    }\n",
       "\n",
       "    .dataframe tbody tr th {\n",
       "        vertical-align: top;\n",
       "    }\n",
       "\n",
       "    .dataframe thead th {\n",
       "        text-align: right;\n",
       "    }\n",
       "</style>\n",
       "<table border=\"1\" class=\"dataframe\">\n",
       "  <thead>\n",
       "    <tr style=\"text-align: right;\">\n",
       "      <th></th>\n",
       "      <th>idf_weights</th>\n",
       "    </tr>\n",
       "  </thead>\n",
       "  <tbody>\n",
       "    <tr>\n",
       "      <td>aback</td>\n",
       "      <td>1.693147</td>\n",
       "    </tr>\n",
       "    <tr>\n",
       "      <td>abandon</td>\n",
       "      <td>1.000000</td>\n",
       "    </tr>\n",
       "    <tr>\n",
       "      <td>abandoned</td>\n",
       "      <td>1.287682</td>\n",
       "    </tr>\n",
       "    <tr>\n",
       "      <td>abandons</td>\n",
       "      <td>1.693147</td>\n",
       "    </tr>\n",
       "    <tr>\n",
       "      <td>abashed</td>\n",
       "      <td>1.000000</td>\n",
       "    </tr>\n",
       "  </tbody>\n",
       "</table>\n",
       "</div>"
      ],
      "text/plain": [
       "           idf_weights\n",
       "aback         1.693147\n",
       "abandon       1.000000\n",
       "abandoned     1.287682\n",
       "abandons      1.693147\n",
       "abashed       1.000000"
      ]
     },
     "execution_count": 8,
     "metadata": {},
     "output_type": "execute_result"
    }
   ],
   "source": [
    "# print idf values\n",
    "df_idf = pd.DataFrame(tfidf_transformer.idf_, index=cv.get_feature_names(),columns=[\"idf_weights\"])\n",
    "# sort ascending\n",
    "df_idf.head()"
   ]
  },
  {
   "cell_type": "code",
   "execution_count": 9,
   "metadata": {},
   "outputs": [
    {
     "data": {
      "text/plain": [
       "(13743, 2)"
      ]
     },
     "execution_count": 9,
     "metadata": {},
     "output_type": "execute_result"
    }
   ],
   "source": [
    "# Redusing number of components\n",
    "tsne = TSNE(n_components=2)\n",
    "tsne_transform=tsne.fit_transform(sne_input.T)\n",
    "np.shape(tsne_transform)\n",
    "#"
   ]
  },
  {
   "cell_type": "code",
   "execution_count": 10,
   "metadata": {},
   "outputs": [
    {
     "data": {
      "text/plain": [
       "<matplotlib.collections.PathCollection at 0x1df9e87b108>"
      ]
     },
     "execution_count": 10,
     "metadata": {},
     "output_type": "execute_result"
    },
    {
     "data": {
      "image/png": "[encoded data removed]",
      "text/plain": [
       "<Figure size 432x288 with 1 Axes>"
      ]
     },
     "metadata": {
      "needs_background": "light"
     },
     "output_type": "display_data"
    }
   ],
   "source": [
    "# plotting all the words aling two axes\n",
    "plt.scatter(sne_input[0,:],sne_input[1,:])"
   ]
  },
  {
   "cell_type": "code",
   "execution_count": 11,
   "metadata": {},
   "outputs": [],
   "source": [
    "# building the word dictionary\n",
    "idx2word={}\n",
    "word2idx={}\n",
    "for i in range(len(cv.get_feature_names())):\n",
    "    idx2word[i]=cv.get_feature_names()[i]\n",
    "    word2idx[cv.get_feature_names()[i]]=i    "
   ]
  },
  {
   "cell_type": "code",
   "execution_count": 16,
   "metadata": {},
   "outputs": [
    {
     "name": "stdout",
     "output_type": "stream",
     "text": [
      "(13743, 3)\n"
     ]
    }
   ],
   "source": [
    "# Aging perforiming Tsne but with3 dimensions\n",
    "tsne = TSNE(n_components=3)\n",
    "We=tsne.fit_transform(sne_input.T)\n",
    "print(We.shape)"
   ]
  },
  {
   "cell_type": "code",
   "execution_count": 17,
   "metadata": {},
   "outputs": [
    {
     "name": "stdout",
     "output_type": "stream",
     "text": [
      "closest match by euclidean distance: water\n",
      "aragorn - king = water - sauron\n",
      "closest match by cosine distance: ring\n",
      "aragorn - king = ring - sauron\n"
     ]
    }
   ],
   "source": [
    "# Finding different Analogies\n",
    "find_analogies('aragorn','king','sauron',We,word2idx,idx2word)"
   ]
  },
  {
   "cell_type": "code",
   "execution_count": 18,
   "metadata": {},
   "outputs": [
    {
     "name": "stdout",
     "output_type": "stream",
     "text": [
      "closest match by euclidean distance: back\n",
      "denethor - gondor = back - frodo\n",
      "closest match by cosine distance: one\n",
      "denethor - gondor = one - frodo\n"
     ]
    }
   ],
   "source": [
    "find_analogies('denethor','gondor','frodo',We,word2idx,idx2word)"
   ]
  },
  {
   "cell_type": "code",
   "execution_count": 19,
   "metadata": {},
   "outputs": [
    {
     "name": "stdout",
     "output_type": "stream",
     "text": [
      "closest match by euclidean distance: doom\n",
      "denethor - gondor = doom - sauron\n",
      "closest match by cosine distance: run\n",
      "denethor - gondor = run - sauron\n"
     ]
    }
   ],
   "source": [
    "find_analogies('denethor','gondor','sauron',We,word2idx,idx2word)"
   ]
  }
 ],
 "metadata": {
  "kernelspec": {
   "display_name": "Python 3",
   "language": "python",
   "name": "python3"
  },
  "language_info": {
   "codemirror_mode": {
    "name": "ipython",
    "version": 3
   },
   "file_extension": ".py",
   "mimetype": "text/x-python",
   "name": "python",
   "nbconvert_exporter": "python",
   "pygments_lexer": "ipython3",
   "version": "3.7.4"
  }
 },
 "nbformat": 4,
 "nbformat_minor": 1
}
