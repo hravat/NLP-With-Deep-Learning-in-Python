{
 "cells": [
  {
   "cell_type": "code",
   "execution_count": 1,
   "metadata": {
    "_cell_guid": "b1076dfc-b9ad-4769-8c92-a6c4dae69d19",
    "_uuid": "8f2839f25d086af736a60e9eeb907d3b93b6e0e5"
   },
   "outputs": [
    {
     "name": "stdout",
     "output_type": "stream",
     "text": [
      "/kaggle/input/pickled-glove840b300d-for-10sec-loading/glove.840B.300d.pkl\n"
     ]
    }
   ],
   "source": [
    "# This Python 3 environment comes with many helpful analytics libraries installed\n",
    "# It is defined by the kaggle/python docker image: https://github.com/kaggle/docker-python\n",
    "# For example, here's several helpful packages to load in \n",
    "\n",
    "import numpy as np # linear algebra\n",
    "import pandas as pd # data processing, CSV file I/O (e.g. pd.read_csv)\n",
    "\n",
    "# Input data files are available in the \"../input/\" directory.\n",
    "# For example, running this (by clicking run or pressing Shift+Enter) will list all files under the input directory\n",
    "\n",
    "import os\n",
    "for dirname, _, filenames in os.walk('/kaggle/input'):\n",
    "    for filename in filenames:\n",
    "        print(os.path.join(dirname, filename))\n",
    "\n",
    "# Any results you write to the current directory are saved as output.\n",
    "\n",
    "###Additional imports\n",
    "import pickle\n",
    "from sklearn.metrics.pairwise import pairwise_distances\n",
    "from future.utils import iteritems\n",
    "import gc\n",
    "import time "
   ]
  },
  {
   "cell_type": "code",
   "execution_count": 2,
   "metadata": {
    "_cell_guid": "79c7e3d0-c299-4dcb-8224-4455121ee9b0",
    "_uuid": "d629ff2d2480ee46fbb7e2d37f6b5fab8052498a"
   },
   "outputs": [],
   "source": [
    "## Read in the pickled file\n",
    "#filename='../input/pickled-glove840b300d-for-10sec-loading/glove.840B.300d.pkl'\n",
    "#infile = open(filename,'rb')\n",
    "#glove_vector = pickle.load(infile)\n",
    "#infile.close()"
   ]
  },
  {
   "cell_type": "code",
   "execution_count": 3,
   "metadata": {},
   "outputs": [],
   "source": [
    "def find_analogies(w1,w2,w3,wnn,dist_metric):\n",
    "    \n",
    "    filename='../input/pickled-glove840b300d-for-10sec-loading/glove.840B.300d.pkl'\n",
    "    infile = open(filename,'rb')\n",
    "    word_embedding = pickle.load(infile)\n",
    "    infile.close()\n",
    "    \n",
    "  \n",
    "    for w in (w1, w2, w3 , wnn):\n",
    "        ## If any words are not there exit\n",
    "        if w not in word_embedding:\n",
    "            print(\"%s not in dictionary\" % w)\n",
    "            return\n",
    "        ## Store the vectors \n",
    "    v1 = word_embedding[w1]\n",
    "    v2 = word_embedding[w2]\n",
    "    v3 = word_embedding[w3]\n",
    "    vnn = word_embedding[wnn]\n",
    "   \n",
    "    min_dist = float('inf')\n",
    "    best_word = ''\n",
    "    \n",
    "    ## appending till 300 as certain vectors in the word emdeddings have less than 300 featues\n",
    "   \n",
    "    v1 = np.expand_dims(v1,axis=-1)\n",
    "    v2 = np.expand_dims(v2,axis=-1)\n",
    "    v3 = np.expand_dims(v3,axis=-1)\n",
    "    vnn = np.expand_dims(vnn,axis=-1)\n",
    "    #print(np.shape(v1))\n",
    "    v1 = np.append(v1,np.zeros([300-np.shape(v1)[0],1]),axis=0)\n",
    "    v2 = np.append(v2,np.zeros([300-np.shape(v2)[0],1]),axis=0)\n",
    "    v3 = np.append(v3,np.zeros([300-np.shape(v3)[0],1]),axis=0)\n",
    "    vnn = np.append(vnn,np.zeros([300-np.shape(vnn)[0],1]),axis=0)\n",
    "    v_calc = v1-v2+v3\n",
    "    v_calc_trans = np.transpose(v_calc)\n",
    "    #v_calc = np.expand_dims(v_calc,axis=-1)\n",
    "    vnn_trans = np.transpose(vnn)\n",
    "    \n",
    "    nn_dict={}\n",
    "    \n",
    "    for word,v4 in iteritems(word_embedding):\n",
    "        v4 = np.expand_dims(v4,axis=-1)\n",
    "        v4 = np.append(v4,np.zeros([300-np.shape(v4)[0],1]),axis=0)\n",
    "        \n",
    "        if dist_metric == 'cosine':\n",
    "            v4=np.transpose(v4)\n",
    "            d=1 - v4.dot(v_calc) / (np.linalg.norm(v4) * np.linalg.norm(v_calc_trans))\n",
    "            dnn=1 - v4.dot(vnn) / (np.linalg.norm(v4) * np.linalg.norm(vnn_trans))\n",
    "            nn_dict[word]=dnn\n",
    "        else: \n",
    "            d=np.linalg.norm(v_calc - v4)\n",
    "            dnn=np.linalg.norm(vnn - v4)\n",
    "            nn_dict[word]=dnn\n",
    "            \n",
    "        \n",
    "        if d < min_dist:\n",
    "            min_dist = d\n",
    "            best_word=word\n",
    "        \n",
    "    \n",
    "    nn_sorted_list = sorted(nn_dict.items(), key=lambda x: x[1])\n",
    "    nn_words = nn_sorted_list[0:11]\n",
    "    \n",
    "    del word_embedding\n",
    "    \n",
    "    return best_word,nn_words\n",
    "    ###########PART COMMENTED DUE TO LACK OF RAM ####################\n",
    "    \n",
    "    #for x in word_embedding.values():\n",
    "     #   a = np.expand_dims(x,axis=0)\n",
    "      #  b = np.append(a,np.zeros([1,300-np.shape(a)[1]]),axis=1)     \n",
    "      #  vec_list.append(b)\n",
    "        \n",
    "    ##del word_embedding\n",
    "    ##gc.collect()\n",
    "    #vec_numpy = np.asarray(vec_list) \n",
    "    #del vec_list\n",
    "    #gc.collect()\n",
    "    #vec_numpy=np.squeeze(vec_numpy)\n",
    "    #print(np.shape(vec_numpy))        \n",
    "    \n",
    "    #distances = pairwise_distances(v_calc,vec_numpy,metric=dist_metric)\n",
    "    #print(np.shape(distances))\n",
    "    \n",
    "    ###########PART COMMENTED DUE TO LACK OF RAM ####################\n",
    "    "
   ]
  },
  {
   "cell_type": "code",
   "execution_count": 4,
   "metadata": {},
   "outputs": [],
   "source": [
    "best_word,nn_words=find_analogies(w1='king',w2='man',w3='queen',wnn='India',dist_metric='euclidean')"
   ]
  },
  {
   "cell_type": "code",
   "execution_count": 5,
   "metadata": {},
   "outputs": [
    {
     "data": {
      "text/plain": [
       "'queen'"
      ]
     },
     "execution_count": 5,
     "metadata": {},
     "output_type": "execute_result"
    }
   ],
   "source": [
    "best_word"
   ]
  },
  {
   "cell_type": "code",
   "execution_count": 6,
   "metadata": {},
   "outputs": [
    {
     "data": {
      "text/plain": [
       "[('India', 0.0),\n",
       " ('Delhi', 5.088391630961377),\n",
       " ('Mumbai', 5.517324970021202),\n",
       " ('Indian', 5.859656560200182),\n",
       " ('Bangalore', 5.879491541417833),\n",
       " ('Pakistan', 5.913844647708191),\n",
       " ('Chennai', 5.942228246023854),\n",
       " ('Lanka', 5.9832402745300435),\n",
       " ('Kolkata', 6.062841568821642),\n",
       " ('Hyderabad', 6.089306673392133),\n",
       " ('Bangladesh', 6.126212599676059)]"
      ]
     },
     "execution_count": 6,
     "metadata": {},
     "output_type": "execute_result"
    }
   ],
   "source": [
    "nn_words"
   ]
  },
  {
   "cell_type": "code",
   "execution_count": 7,
   "metadata": {},
   "outputs": [],
   "source": [
    "best_word,nn_words=find_analogies(w1='happy',w2='hapiness',w3='sad',wnn='Japan',dist_metric='cosine')"
   ]
  },
  {
   "cell_type": "code",
   "execution_count": 8,
   "metadata": {},
   "outputs": [
    {
     "data": {
      "text/plain": [
       "'sad'"
      ]
     },
     "execution_count": 8,
     "metadata": {},
     "output_type": "execute_result"
    }
   ],
   "source": [
    "best_word"
   ]
  },
  {
   "cell_type": "code",
   "execution_count": 9,
   "metadata": {},
   "outputs": [
    {
     "data": {
      "text/plain": [
       "[('Japan', array([[-2.22044605e-16]])),\n",
       " ('Tokyo', array([[0.21443195]])),\n",
       " ('Japanese', array([[0.23275325]])),\n",
       " ('Korea', array([[0.297462]])),\n",
       " ('Taiwan', array([[0.3441073]])),\n",
       " ('Osaka', array([[0.35745652]])),\n",
       " ('China', array([[0.37097326]])),\n",
       " ('Asia', array([[0.40073338]])),\n",
       " ('JAPAN', array([[0.40842062]])),\n",
       " ('japan', array([[0.40863329]])),\n",
       " ('Kyoto', array([[0.4318104]]))]"
      ]
     },
     "execution_count": 9,
     "metadata": {},
     "output_type": "execute_result"
    }
   ],
   "source": [
    "nn_words"
   ]
  },
  {
   "cell_type": "code",
   "execution_count": null,
   "metadata": {},
   "outputs": [],
   "source": []
  }
 ],
 "metadata": {
  "kernelspec": {
   "display_name": "Python 3",
   "language": "python",
   "name": "python3"
  },
  "language_info": {
   "codemirror_mode": {
    "name": "ipython",
    "version": 3
   },
   "file_extension": ".py",
   "mimetype": "text/x-python",
   "name": "python",
   "nbconvert_exporter": "python",
   "pygments_lexer": "ipython3",
   "version": "3.7.4"
  }
 },
 "nbformat": 4,
 "nbformat_minor": 1
}
